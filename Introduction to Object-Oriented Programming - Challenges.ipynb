
{
  "cells": [
    {
      "cell_type": "markdown",
      "metadata": {},
      "source": [
        "# Introduction to Object-Oriented Programming\n",
        "### Dive into OOP concepts to structure your Python code with classes and objects\n",
        "\n",
        "**Note to learners**: This notebook is interactive and allows you to practice Python Object-Oriented Programming (OOP) as you learn. Remember, the notebook won't be saved automatically. If you're using Google Colab, save a copy to your Google Drive to keep your work."
      ]
    },
    {
      "cell_type": "markdown",
      "metadata": {},
      "source": [
        "## Getting Started\n",
        "Object-Oriented Programming, or OOP, is a way of programming that helps to organize and structure your code. In this lesson, you'll learn about creating classes, defining methods, inheritance, and much more. Let's dive into the world of OOP with Python!"
      ]
    },
    {
      "cell_type": "markdown",
      "metadata": {},
      "source": [
        "## Challenge 1: Understanding Objects\n",
        "Everything around you can be considered an object. This includes everything physical around you, as well as more abstract concepts. In this challenge, your task is to look around you and list three objects, their properties (attributes), and actions (methods) they can perform.\n",
        "\n",
        "### For example:\n",
        "- Object: Pen\n",
        "    - Properties: color, length, ink_level\n",
        "    - Methods: write(), refillInk()\n",
        "\n",
        "Write your objects below:"
      ]
    },
    {
      "cell_type": "markdown",
      "metadata": {},
      "source": [
        "## Challenge 2: Create Your First Class\n",
        "Let's put your knowledge into practice. You'll now create a simple class. This class will represent a `Book`.\n",
        "\n",
        "### Tasks:\n",
        "- Define a class named `Book`.\n",
        "- Add an `__init__` method that initializes two attributes: `title` and `author`.\n",
        "- Add a method `describe_book()` that prints a message with the book's title and author.\n",
        "\n",
        "### TODO\n",
        "```python\n",
        "# TODO: Define the Book class below\n",
        "class Book:\n",
        "    def __init__(self, title, author):\n",
        "        # Initialize the title and author attributes\n",
        "\n",
        "    def describe_book(self):\n",
        "        # Print a message describing the book\n",
        "```\n",
        "\n",
        "After you've defined your `Book` class, create an instance of `Book` and call the `describe_book()` method."
      ]
    },
    {
      "cell_type": "markdown",
      "metadata": {},
      "source": [
        "## Challenge 3: Player and AdminPlayer Classes\n",
        "Building on the concept of classes and inheritance, you'll now create two related classes.\n",
        "\n",
        "### Tasks:\n",
        "- Define a `Player` class with an `__init__` method that includes `name` and `score` attributes, and a `score_point()` method that increases the score by one.\n",
        "- Define an `AdminPlayer` class that inherits from `Player` and adds a `reset_score()` method that sets the score back to zero.\n",
        "\n",
        "### TODO\n",
        "```python\n",
        "# TODO: Define the Player class below\n",
        "\n",
        "# TODO: Define the AdminPlayer class below\n",
        "```\n",
        "\n",
        "After defining the classes, create an instance of each and demonstrate changing attributes and using both inherited and new methods."
      ]
    },
    {
      "cell_type": "markdown",
      "metadata": {},
      "source": [
        "## Wrapping Up\n",
        "Congratulations on completing the introduction to Object-Oriented Programming! You've taken a big step in understanding how to structure your Python code with classes and objects. Remember, practice is key to becoming proficient at OOP.\n",
        "\n",
        "## Submission\n",
        "To submit your work, download this notebook as a .ipynb file and email it as an attachment to the instructor at o.j.uwaifo@gmail.com. Make sure to include your name and the date in the email."
      ]
    }
  ],
  "metadata": {
    "kernelspec": {
      "display_name": "Python 3",
      "language": "python",
      "name": "python3"
    },
    "language_info": {
      "codemirror_mode": {
        "name": "ipython",
        "version": 3
      },
      "file_extension": ".py",
      "mimetype": "text/x-python",
      "name": "python",
      "nbconvert_exporter": "python",
      "pygments_lexer": "ipython3",
      "version": "3.8.5"
    }
  },
  "nbformat": 4,
  "nbformat_minor": 2
}