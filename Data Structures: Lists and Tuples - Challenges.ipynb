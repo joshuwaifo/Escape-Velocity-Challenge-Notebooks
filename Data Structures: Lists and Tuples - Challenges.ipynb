{
  "cells": [
    {
      "cell_type": "markdown",
      "metadata": {},
      "source": [
        "# Data Structures: Lists and Tuples\n",
        "\n",
        "## Learn how to store and manipulate a collection of data in Python.\n",
        "\n",
        "This interactive notebook is designed to help you practice and enhance your skills in working with Python's lists and tuples, two fundamental data structures for organizing and managing data. Before you begin, remember that changes you make in this notebook are not automatically saved. If you're using Google Colab, you can save a copy to your Google Drive for later reference."
      ]
    },
    {
      "cell_type": "markdown",
      "metadata": {},
      "source": [
        "### Introduction\n",
        "\n",
        "In today's lesson, we will be diving deep into Lists and Tuples in Python. By understanding these data structures, you'll unlock new ways to efficiently store and manipulate collections of data in your programming projects. Let's get started!"
      ]
    },
    {
      "cell_type": "code",
      "execution_count": null,
      "metadata": {},
      "outputs": [],
      "source": [
        "# Let's first create a simple list\n",
        "mixed_list = [1, 'apple', 3.14, [1, 2, 3]]\n",
        "print(mixed_list)"
      ]
    },
    {
      "cell_type": "markdown",
      "metadata": {},
      "source": [
        "#### Challenge 1: Accessing Items\n",
        "\n",
        "Using the `mixed_list` above, access the second item and print it."
      ]
    },
    {
      "cell_type": "code",
      "execution_count": null,
      "metadata": {},
      "outputs": [],
      "source": [
        "# TODO: Access and print the second item of mixed_list\n"
      ]
    },
    {
      "cell_type": "markdown",
      "metadata": {},
      "source": [
        "#### Challenge 2: List Slicing\n",
        "\n",
        "Slice the `mixed_list` to only include its first 3 items. Print the result."
      ]
    },
    {
      "cell_type": "code",
      "execution_count": null,
      "metadata": {},
      "outputs": [],
      "source": [
        "# TODO: Slice mixed_list and print the resulting list\n"
      ]
    },
    {
      "cell_type": "markdown",
      "metadata": {},
      "source": [
        "#### Challenge 3: Appending Items\n",
        "\n",
        "Now, try appending 'banana' to `mixed_list` and print the updated list."
      ]
    },
    {
      "cell_type": "code",
      "execution_count": null,
      "metadata": {},
      "outputs": [],
      "source": [
        "# TODO: Append 'banana' to mixed_list and then print the list\n"
      ]
    },
    {
      "cell_type": "markdown",
      "metadata": {},
      "source": [
        "#### Challenge 4: Merging Lists\n",
        "\n",
        "Create another list named `more_fruits = ['orange', 'grape']`. Merge it with `mixed_list` and print the result."
      ]
    },
    {
      "cell_type": "code",
      "execution_count": null,
      "metadata": {},
      "outputs": [],
      "source": [
        "# TODO: Merge mixed_list with more_fruits and then print the new list\n",
        "more_fruits = ['orange', 'grape']"
      ]
    },
    {
      "cell_type": "markdown",
      "metadata": {},
      "source": [
        "#### Challenge 5: Tuples and Immutability\n",
        "\n",
        "Create a tuple named `week_days` that contains the names of the week days. Attempt to change the first day to 'Sunday', observe what happens, and describe your observation in a comment."
      ]
    },
    {
      "cell_type": "code",
      "execution_count": null,
      "metadata": {},
      "outputs": [],
      "source": [
        "# TODO: Create week_days tuple, attempt to change the first item, and observe what happens\n",
        "week_days = ('Monday', 'Tuesday', 'Wednesday', 'Thursday', 'Friday', 'Saturday')"
      ]
    },
    {
      "cell_type": "markdown",
      "metadata": {},
      "source": [
        "#### Conclusion and Next Steps\n",
        "\n",
        "In this notebook, we explored the fundamentals of lists and tuples - from creating and accessing elements to understanding immutability. Lists and tuples are invaluable in organizing data in your Python programs, giving you the flexibility and tools needed for effective data manipulation.\n",
        "\n",
        "Congratulations on completing the challenges! Your next step is to practice these concepts with more complex data and start integrating them into your projects.\n",
        "\n",
        "If you wish to get feedback on your solutions, please download this notebook by going to *File -> Download .ipynb*, then email it as an attachment to the instructor at **o.j.uwaifo@gmail.com**. Happy coding!"
      ]
    }
  ],
  "metadata": {
    "kernelspec": {
      "display_name": "Python 3",
      "language": "python",
      "name": "python3"
    },
    "language_info": {
      "codemirror_mode": {
        "name": "ipython",
        "version": 3
      },
      "file_extension": ".py",
      "mimetype": "text/x-python",
        "name": "python",
        "nbconvert_exporter": "python",
        "pygments_lexer": "ipython3",
        "version": "3.8.5"
    }
  },
  "nbformat": 4,
  "nbformat_minor": 2
}