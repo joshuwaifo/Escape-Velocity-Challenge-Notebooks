{
  "cells": [
    {
      "cell_type": "markdown",
      "metadata": {},
      "source": [
        "# Chat Completions & Text Generation\n",
        "\n",
        "**Dive into generating human-like text with OpenAI's powerful models.**\n",
        "\n",
        "Welcome to today's lesson on Chat Completions & Text Generation! This notebook will serve as an interactive platform to practice what you've learned in the lesson. Remember, to save your progress, use Google Colab to save a copy of this notebook to your Google Drive."
      ]
    },
    {
      "cell_type": "markdown",
      "metadata": {},
      "source": [
        "## Introduction\n",
        "\n",
        "In this lesson, we explored how to generate human-like text using OpenAI's powerful models, particularly GPT-3. We discussed chat completions and their utility in imitating human-like conversations. We also delved into OpenAI's model capabilities and looked at a text generation demo using a simple prompt.\n",
        "\n",
        "In this notebook, you'll be presented with challenges to apply what you've learned. These challenges will range from simple to more complex tasks. Each will require you to use a combination of code and text to solve them."
      ]
    },
    {
      "cell_type": "markdown",
      "metadata": {},
      "source": [
        "## Challenge 1: Understanding Chat Completions\n",
        "\n",
        "Before we start generating text, let's understand what chat completions are a bit more. Chat completions aim to mimic human-like conversation, usually for applications like customer service chatbots. Your challenge is to explain in your own words why making AI-generated responses feel more human-like could improve user experience in chat applications.\n",
        "\n",
        "**# TODO**: Write your explanation below in this cell."
      ]
    },
    {
      "cell_type": "markdown",
      "metadata": {},
      "source": [
        "## Challenge 2: Generating Text with GPT-3\n",
        "\n",
        "It's now time to experiment with GPT-3 text generation. For this challenge, you'll need a GPT-3 API key (you can use the OpenAI API playground for testing if you don't have one directly).\n",
        "\n",
        "Your task is to write a Python function that sends a prompt to the GPT-3 API and receives the generated text in return. Use the API to generate a text completion based on the prompt 'Once upon a time, in a magical forest, there lived a...'.\n",
        "\n",
        "```python\n",
        "import openai\n",
        "\n",
        "# TODO: Write your function here to send a prompt to GPT-3 and return the completion\n",
        "def generate_text(prompt):\n",
        "    # Your code here to interact with GPT-3 API\n",
        "    return None\n",
        "\n",
        "# Example call to your function:\n",
        "# print(generate_text('Once upon a time, in a magical forest, there lived a...'))\n",
        "```\n",
        "\n",
        "Remember to replace `# TODO` with your actual code."
      ]
    },
    {
      "cell_type": "markdown",
      "metadata": {},
      "source": [
        "## Challenge 3: Explore Different Prompts\n",
        "\n",
        "Now that you have a function to generate text with GPT-3, let's explore how different prompts affect the generated text. Your challenge is to create at least three different prompts of your choosing and use your `generate_text` function to generate text for each one.\n",
        "\n",
        "Record your observations on how the change in prompts affects the text generation outcome.\n",
        "\n",
        "**# TODO**: Write your prompts, generated texts, and observations below."
      ]
    },
    {
      "cell_type": "markdown",
      "metadata": {},
      "source": [
        "## Challenge 4: Practical Applications\n",
        "\n",
        "Chat completions and text generation have a wide range of applications. Your next challenge is to brainstorm and describe one innovative way this technology could be used. Think outside the box, and consider applications in entertainment, education, customer service, or any other field you're passionate about.\n",
        "\n",
        "**# TODO**: Describe your innovative application for text generation below."
      ]
    },
    {
      "cell_type": "markdown",
      "metadata": {},
      "source": [
        "## Submission\n",
        "\n",
        "Great job completing these challenges! To submit your work for review, please download this notebook as a file and send it as an attachment to the instructor's email address: o.j.uwaifo@gmail.com\n",
        "\n",
        "- To download the notebook, go to `File` → `Download` → `Download .ipynb`.\n",
        "- Attach the downloaded file to an email and send it to the provided email address.\n",
        "\n",
        "We look forward to seeing your creative solutions and insights!"
      ]
    }
  ],
  "metadata": {
    "kernelspec": {
      "name": "python3",
      "display_name": "Python 3"
    },
    "language_info": {
      "name": "python",
      "version": "3.8.5",
      "mimetype": "text/x-python",
      "codemirror_mode": {
        "name": "ipython",
        "version": 3
      },
      "pygments_lexer": "ipython3",
      "nbconvert_exporter": "python",
      "file_extension": ".py"
    }
  },
  "nbformat": 4,
  "nbformat_minor": 4
}