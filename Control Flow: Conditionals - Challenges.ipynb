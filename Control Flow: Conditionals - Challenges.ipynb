{
  "cells": [
    {
      "cell_type": "markdown",
      "metadata": {},
      "source": [
        "# Control Flow: Conditionals\n",
        "\n",
        "## Explore how to direct your Python code to make decisions using if-else statements.\n",
        "\n",
        "Welcome to an interactive Jupyter notebook designed to reinforce your understanding of conditionals in Python. This lesson will guide you through a series of challenges that will help you practice making decisions in your code using if, else, and elif statements.\n",
        "\n",
        "Please note that this notebook is not automatically saved. If you're using Google Colab, ensure you save a copy to your Google Drive to keep your progress."
      ]
    },
    {
      "cell_type": "markdown",
      "metadata": {},
      "source": [
        "### Introduction to Challenges\n",
        "\n",
        "The following challenges are designed to help you apply the concepts learned in the lesson on Control Flow with Conditionals. You'll have a chance to write code that makes decisions based on various conditions.\n",
        "\n",
        "Read through each challenge and complete the tasks in the provided code cells. These challenges start with basic conditional statements and progress to more complex conditions involving logical operators."
      ]
    },
    {
      "cell_type": "markdown",
      "metadata": {},
      "source": [
        "### Challenge 1: Simple If Statement\n",
        "\n",
        "Write a simple if statement that prints \"Hello, Python!\" if the variable `is_python` is True.\n",
        "\n",
        "Start by assigning the value True or False to the `is_python` variable, then write your if statement."
      ]
    },
    {
      "cell_type": "code",
      "execution_count": null,
      "metadata": {},
      "outputs": [],
      "source": [
        "# TODO: Assign True or False to is_python\n",
        "is_python = True  # Example assignment, change as you test your if statement\n",
        "\n",
        "# TODO: Write an if statement\n",
        "if is_python:\n",
        "    print(\"Hello, Python!\")"
      ]
    },
    {
      "cell_type": "markdown",
      "metadata": {},
      "source": [
        "### Challenge 2: Conditional with Numbers\n",
        "\n",
        "Check if a number is positive. Assign a number to the variable `num`, then write an if statement to print \"Positive Number\" if the number is greater than zero."
      ]
    },
    {
      "cell_type": "code",
      "execution_count": null,
      "metadata": {},
      "outputs": [],
      "source": [
        "# TODO: Assign a number to num\n",
        "num = 10  # Example assignment, try different numbers\n",
        "\n",
        "# TODO: Write an if statement\n",
        "if num > 0:\n",
        "    print(\"Positive Number\")"
      ]
    },
    {
      "cell_type": "markdown",
      "metadata": {},
      "source": [
        "### Challenge 3: Using AND and OR Operators\n",
        "\n",
        "Write a conditional statement using AND and OR operators to check if two variables, `a` and `b`, meet certain conditions. Print \"Conditions Met\" if `a` is greater than 5 AND `b` is less than or equal to 10, OR if `a` is equal to 7."
      ]
    },
    {
      "cell_type": "code",
      "execution_count": null,
      "metadata": {},
      "outputs": [],
      "source": [
        "# TODO: Assign values to a and b\n",
        "a = 7\n",
        "b = 10  # Example assignments, try different values to test your conditional\n",
        "\n",
        "# TODO: Write a conditional with AND and OR operators\n",
        "if (a > 5 and b <= 10) or a == 7:\n",
        "    print(\"Conditions Met\")"
      ]
    },
    {
      "cell_type": "markdown",
      "metadata": {},
      "source": [
        "### Challenge 4: Nested Conditions\n",
        "\n",
        "Create a nested conditional where you check if a variable `age` is greater than 18. Inside this check, add another condition to check if `age` is less than 65. Print appropriate messages for each condition.\n",
        "\n",
        "Example messages are \"Above 18\" for the first condition and \"Between 18 and 65\" for the nested condition."
      ]
    },
    {
      "cell_type": "code",
      "execution_count": null,
      "metadata": {},
      "outputs": [],
      "source": [
        "# TODO: Assign an age\n",
        "age = 25  # Example age, try different ages\n",
        "\n",
        "# TODO: Write nested conditions\n",
        "if age > 18:\n",
        "    print(\"Above 18\")\n",
        "    if age < 65:\n",
        "        print(\"Between 18 and 65\")"
      ]
    },
    {
      "cell_type": "markdown",
      "metadata": {},
      "source": [
        "### Challenge 5: Experiment with Your Own Conditions\n",
        "\n",
        "Now that you've practiced working with conditionals, try creating your own conditions. Think of a real-world scenario that requires a decision to be made based on certain conditions. Translate this scenario into Python code.\n",
        "\n",
        "For example, you might check if a user has enough credits to purchase an item, check if a person is eligible to vote based on their age, or any other scenario you're interested in."
      ]
    },
    {
      "cell_type": "code",
      "execution_count": null,
      "metadata": {},
      "outputs": [],
      "source": [
        "# TODO: Write your own conditional statement based on a real-world scenario\n"
      ]
    },
    {
      "cell_type": "markdown",
      "metadata": {},
      "source": [
        "### Wrapping Up\n",
        "\n",
        "Congratulations on working through these conditional challenges! Practicing with various conditions and logical operators will enhance your ability to control the flow of your programs efficiently.\n"
      ]
    }
  ],
  "metadata": {
    "kernelspec": {
      "display_name": "Python 3",
      "language": "python",
      "name": "python3"
    },
    "language_info": {
      "codemirror_mode": {
        "name": "ipython",
        "version": 3
      },
      "file_extension": ".py",
      "mimetype": "text/x-python",
      "name": "python",
      "nbconvert_exporter": "python",
      "pygments_lexer": "ipython3",
      "version": "3.8.5"
    }
  },
  "nbformat": 4,
  "nbformat_minor": 2
}
