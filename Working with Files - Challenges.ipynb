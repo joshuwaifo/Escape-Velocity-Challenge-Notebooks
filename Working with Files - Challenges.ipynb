{
  "cells": [
    {
      "cell_type": "markdown",
      "metadata": {},
      "source": [
        "# Working with Files\n",
        "\n",
        "**Read from and write to files to store data outside your Python programs.**\n",
        "\n",
        "Before proceeding, please remember that this notebook is not automatically saved unless you use Google Colab to save a copy to your Google Drive."
      ]
    },
    {
      "cell_type": "markdown",
      "metadata": {},
      "source": [
        "## Introduction\n",
        "\n",
        "Welcome to the 'Working with Files' challenge notebook. In today's lesson, we've covered the essentials of reading from and writing to files using Python, an invaluable skill in programming. You've learned about the importance of persistent data storage, navigated directories, and practiced handling file operations with care. Now, let's put those skills to the test with some practical challenges."
      ]
    },
    {
      "cell_type": "markdown",
      "metadata": {},
      "source": [
        "## Challenge 1: Creating a Text File\n",
        "\n",
        "Your first challenge is to create a simple text file. Name the file 'test.txt' and write 'Hello, world!' in it."
      ]
    },
    {
      "cell_type": "code",
      "execution_count": null,
      "metadata": {},
      "outputs": [],
      "source": [
        "# TODO: Use Python to create a file named 'test.txt' and write 'Hello, world!' in it."
      ]
    },
    {
      "cell_type": "markdown",
      "metadata": {},
      "source": [
        "## Challenge 2: Reading from the Text File\n",
        "\n",
        "Now that you've created 'test.txt', try reading its contents and print them out."
      ]
    },
    {
      "cell_type": "code",
      "execution_count": null,
      "metadata": {},
      "outputs": [],
      "source": [
        "# TODO: Open 'test.txt' and print its contents."
      ]
    },
    {
      "cell_type": "markdown",
      "metadata": {},
      "source": [
        "## Challenge 3: Listing Directory Contents\n",
        "\n",
        "Can you list all the files and directories in the current working directory?"
      ]
    },
    {
      "cell_type": "code",
      "execution_count": null,
      "metadata": {},
      "outputs": [],
      "source": [
        "# TODO: Import the os library and use it to list the contents of your current directory."
      ]
    },
    {
      "cell_type": "markdown",
      "metadata": {},
      "source": [
        "## Challenge 4: Working with JSON\n",
        "\n",
        "Take any Python dictionary of your choice, name it 'data_dict', and write it into a JSON file called 'data.json'."
      ]
    },
    {
      "cell_type": "code",
      "execution_count": null,
      "metadata": {},
      "outputs": [],
      "source": [
        "# TODO: Import the json library, create a dictionary, and write it into 'data.json'."
      ]
    },
    {
      "cell_type": "markdown",
      "metadata": {},
      "source": [
        "## Challenge 5: Reading JSON\n",
        "\n",
        "After writing 'data.json' in the previous step, try to read it back into a Python object and print it."
      ]
    },
    {
      "cell_type": "code",
      "execution_count": null,
      "metadata": {},
      "outputs": [],
      "source": [
        "# TODO: Read 'data.json' back into a Python object."
      ]
    },
    {
      "cell_type": "markdown",
      "metadata": {},
      "source": [
        "## Conclusion\n",
        "\n",
        "Congratulations on completing the challenges! We hope that they have helped solidify your understanding of working with files in Python. Remember, practice makes perfect, so don't hesitate to experiment with more complex file operations and larger projects.\n"
      ]
    }
  ],
  "metadata": {
    "kernelspec": {
      "display_name": "Python 3",
      "language": "python",
      "name": "python3"
    },
    "language_info": {
      "codemirror_mode": {
        "name": "ipython",
        "version": 3
      },
      "file_extension": ".py",
      "mimetype": "text/x-python",
      "name": "python",
      "nbconvert_exporter": "python",
      "pygments_lexer": "ipython3",
      "version": "3.8.5"
    }
  },
  "nbformat": 4,
  "nbformat_minor": 4
}
