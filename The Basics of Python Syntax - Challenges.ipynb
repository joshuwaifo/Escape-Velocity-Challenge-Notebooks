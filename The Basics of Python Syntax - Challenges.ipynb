{
 "cells": [
  {
   "cell_type": "markdown",
   "metadata": {},
   "source": [
    "# The Basics of Python Syntax\n",
    "## Learn the ABCs of Python syntax to write your first lines of code.\n",
    "\n",
    "Welcome to 'The Basics of Python Syntax'! Ready to write your first lines of code? Let's dive in. \n",
    "\n",
    "**Note:** Remember, this notebook is not automatically saved. If you're using Google Colab, make sure to save a copy to your Google Drive to keep your progress."
   ]
  },
  {
   "cell_type": "markdown",
   "metadata": {},
   "source": [
    "### Introduction\n",
    "\n",
    "Throughout this interactive notebook, you'll get hands-on practice with the very basics of Python syntax that we covered in the lesson. You'll learn about creating variables, using the `print` function, comments, and more.\n",
    "\n",
    "Let's get started!"
   ]
  },
  {
   "cell_type": "code",
   "execution_count": null,
   "metadata": {},
   "outputs": [],
   "source": [
    "# Challenge 1: Creating Variables\n",
    "\n",
    "# TODO: Create a variable named 'my_number' and assign it the value 10.\n",
    "\n",
    "# TODO: Print the value of 'my_number'."
   ]
  },
  {
   "cell_type": "markdown",
   "metadata": {},
   "source": [
    "### Challenge 2: Exploring Data Types\n",
    "\n",
    "In this challenge, you'll define variables of different data types and print them.\n",
    "\n",
    "Follow the TODO instructions below."
   ]
  },
  {
   "cell_type": "code",
   "execution_count": null,
   "metadata": {},
   "outputs": [],
   "source": [
    "# Define a variable assigned with a floating point value (float)\n",
    "# TODO: Create a variable 'my_float' and assign it a decimal value.\n",
    "\n",
    "# Define a variable assigned with a string (text)\n",
    "# TODO: Create a variable 'my_string' and assign it a text value.\n",
    "\n",
    "# Define a variable assigned with a boolean value (True or False)\n",
    "# TODO: Create a variable 'my_boolean' and set it to True or False.\n",
    "\n",
    "# Print the variables\n",
    "# TODO: Print all three variables you have just defined."
   ]
  },
  {
   "cell_type": "markdown",
   "metadata": {},
   "source": [
    "### Challenge 3: Variable Names and Comments\n",
    "\n",
    "Good variable names and comments can make your code much easier to understand. In this challenge, you'll practice creating descriptive variable names and adding useful comments to your code."
   ]
  },
  {
   "cell_type": "code",
   "execution_count": null,
   "metadata": {},
   "outputs": [],
   "source": [
    "# TODO: Create a variable that stores your age. Use a descriptive name like 'my_age' or 'age_in_years'.\n",
    "\n",
    "# TODO: Write a comment above the variable explaining what it holds."
   ]
  },
  {
   "cell_type": "markdown",
   "metadata": {},
   "source": [
    "### Challenge 4: Case Sensitivity and Reassignment\n",
    "\n",
    "Python is case sensitive, and variables can be reassigned to different values and types. This challenge will help you understand these concepts."
   ]
  },
  {
   "cell_type": "code",
   "execution_count": null,
   "metadata": {},
   "outputs": [],
   "source": [
    "# TODO: Create two variables, 'CaseSensitive' and 'casesensitive'. Assign different values to each and print them.\n",
    "\n",
    "# TODO: Reassign a value to one of the variables you've created in this notebook. It can be any variable. Then, print the new value."
   ]
  },
  {
   "cell_type": "markdown",
   "metadata": {},
   "source": [
    "## Wrapping Up\n",
    "\n",
    "Great job! You've reached the end of this practice notebook. You've worked with variables, different data types, comments, and learned about Python's case sensitivity and the flexibility of variable assignments.\n",
    "\n",
    "Remember, the best way to get comfortable with programming is by practice. So, keep experimenting with what you've learned.\n",
    "\n",
    "Once you're done, download this notebook by going to File > Download .ipynb and email it to the instructor for review at **o.j.uwaifo@gmail.com**. Happy coding!"
   ]
  }
 ],
 "metadata": {
  "kernelspec": {
   "display_name": "Python 3",
   "language": "python",
   "name": "python3"
  },
  "language_info": {
   "codemirror_mode": {
    "name": "ipython",
    "version": 3
   },
   "file_extension": ".py",
   "mimetype": "text/x-python",
   "name": "python",
   "nbconvert_exporter": "python",
   "pygments_lexer": "ipython3",
   "version": "3.8.5"
  }
 },
 "nbformat": 4,
 "nbformat_minor": 2
}