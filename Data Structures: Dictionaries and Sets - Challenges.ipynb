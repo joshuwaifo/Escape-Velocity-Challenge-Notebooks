{
 "cells": [
  {
   "cell_type": "markdown",
   "metadata": {},
   "source": [
    "# Data Structures: Dictionaries and Sets\n",
    "\n",
    "**Tagline**: *Understand how dictionaries and sets work to manage data more effectively.*\n",
    "\n",
    "> **Notice**: This notebook is interactive but not saved automatically. If you're using Google Colab, save a copy to your Google Drive for your records.\n",
    "\n",
    "## Introduction\n",
    "Welcome to a practical session on dictionaries and sets in Python! Through a series of challenges, you'll get hands-on experience with these powerful data structures. By the end of this lesson, you'll be familiar with accessing, updating, and manipulating data efficiently in Python."
   ]
  },
  {
   "cell_type": "markdown",
   "metadata": {},
   "source": [
    "### Challenge 1: Creating and Accessing Dictionaries\n",
    "\n",
    "- **Task**: Create a dictionary named `person_info` with keys `name`, `age`, `is_student`, and `courses`. Fill it with some example data.\n",
    "- **Task**: Access and print the person's name and age.\n",
    "\n",
    "```python\n",
    "# TODO: Create the dictionary\n",
    "\n",
    "# TODO: Access and print the name and age\n",
    "```\n"
   ]
  },
  {
   "cell_type": "markdown",
   "metadata": {},
   "source": [
    "### Challenge 2: Updating and Adding Dictionary Elements\n",
    "\n",
    "- **Task**: Update the `age` in `person_info` to a new value.\n",
    "- **Task**: Add a new key-value pair `hobbies` to `person_info`.\n",
    "\n",
    "```python\n",
    "# TODO: Update the age\n",
    "\n",
    "# TODO: Add a new key-value pair for hobbies\n",
    "```\n"
   ]
  },
  {
   "cell_type": "markdown",
   "metadata": {},
   "source": [
    "### Challenge 3: Working with Dictionary Methods\n",
    "\n",
    "- **Task**: Use the `get` method to safely access the `email` key from `person_info`, which might not exist.\n",
    "- **Task**: List all the keys in `person_info` using the `keys()` method.\n",
    "\n",
    "```python\n",
    "# TODO: Safely access the `email` key\n",
    "\n",
    "# TODO: List all the keys\n",
    "```\n"
   ]
  },
  {
   "cell_type": "markdown",
   "metadata": {},
   "source": [
    "### Challenge 4: Creating and Modifying Sets\n",
    "\n",
    "- **Task**: Create a set named `my_set` with some numbers in it.\n",
    "- **Task**: Add a new number to `my_set`.\n",
    "- **Task**: Try removing a number that doesn't exist, handle the error gracefully.\n",
    "\n",
    "```python\n",
    "# TODO: Create a set\n",
    "\n",
    "# TODO: Add a new number to the set\n",
    "\n",
    "# TODO: Remove a number handling errors\n",
    "```\n"
   ]
  },
  {
   "cell_type": "markdown",
   "metadata": {},
   "source": [
    "### Challenge 5: Set Operations\n",
    "\n",
    "- **Task**: Create another set `set2` and perform union and intersection operations with `my_set`.\n",
    "\n",
    "```python\n",
    "# TODO: Create another set\n",
    "\n",
    "# TODO: Perform union operation\n",
    "\n",
    "# TODO: Perform intersection operation\n",
    "```\n"
   ]
  },
  {
   "cell_type": "markdown",
   "metadata": {},
   "source": [
    "## Conclusion\n",
    "\n",
    "Congratulations on completing the practical challenges on dictionaries and sets! These structures enhance your ability to manage data efficiently in Python. Experiment further, applying what you've learned to tackle real-world problems.\n"
   ]
  }
 ],
 "metadata": {
  "kernelspec": {
   "display_name": "Python 3",
   "language": "python",
   "name": "python3"
  },
  "language_info": {
   "codemirror_mode": {
    "name": "ipython",
    "version": 3
   },
   "file_extension": ".py",
   "mimetype": "text/x-python",
   "name": "python",
   "nbconvert_exporter": "python",
   "pygments_lexer": "ipython3",
   "version": "3.8.5"
  }
 },
 "nbformat": 4,
 "nbformat_minor": 2
}
