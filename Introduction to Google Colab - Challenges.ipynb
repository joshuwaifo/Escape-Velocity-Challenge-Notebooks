{
  "cells": [
    {
      "cell_type": "markdown",
      "metadata": {},
      "source": [
        "# Introduction to Google Colab\n",
        "\n",
        "**Learn how to use Google Colab for Python programming, making the most of its collaborative and interactive features.**\n",
        "\n",
        "Welcome to your introduction to Google Colab! This powerful tool lets you write and run Python code with no setup required. Remember, the notebooks you work on are not automatically saved to your Google Drive unless you explicitly do so. Make sure you save a copy to avoid losing your progress. Let's dive into the challenges and practice what we've learned!"
      ]
    },
    {
      "cell_type": "markdown",
      "metadata": {},
      "source": [
        "## Challenge 1: Creating and Running Your First Cell\n",
        "\n",
        "1. Create a new text cell and introduce yourself using Markdown syntax.\n",
        "2. Create a new code cell below it. Write code to print 'Hello World'.\n",
        "3. Run the code cell and observe the output."
      ]
    },
    {
      "cell_type": "markdown",
      "metadata": {},
      "source": [
        "## Challenge 2: Utilizing GPU Support\n",
        "\n",
        "1. Access the notebook settings and change the runtime to use GPU support.\n",
        "2. Run a simple proof-of-concept to demonstrate the computation power by calculating the 10000th Fibonacci number."
      ]
    },
    {
      "cell_type": "markdown",
      "metadata": {},
      "source": [
        "## Challenge 3: Saving Your Notebook\n",
        "\n",
        "1. Learn how to save your notebook to Google Drive.\n",
        "2. Save your current notebook.\n",
        "3. Introduce yourself in a text cell and explain what you've learned today."
      ]
    },
    {
      "cell_type": "markdown",
      "metadata": {},
      "source": [
        "## Submitting Your Work\n",
        "\n",
        "Once you're done with all the challenges:\n",
        "- Click 'File' then 'Download'. Choose the appropriate file format for your submission.\n",
        "- Email the file as an attachment to the instructor at **o.j.uwaifo@gmail.com**.\n",
        "\n",
        "Make sure your email has the subject 'Google Colab Lesson Completion' and include your name and date in the email body. Feel free to share any feedback or ask questions about the lesson in your email!"
      ]
    }
  ],
  "metadata": {
    "kernelspec": {
      "display_name": "Python 3",
      "language": "python",
      "name": "python3"
    },
    "language_info": {
      "codemirror_mode": {
        "name": "ipython",
        "version": 3
      },
      "file_extension": ".py",
      "mimetype": "text/x-python",
      "name": "python",
      "nbconvert_exporter": "python",
      "pygments_lexer": "ipython3",
      "version": "3.8.5"
    }
  },
  "nbformat": 4,
  "nbformat_minor": 2
}
