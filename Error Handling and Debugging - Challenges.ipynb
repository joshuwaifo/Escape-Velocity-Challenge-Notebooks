{
 "cells": [
  {
   "cell_type": "markdown",
   "metadata": {},
   "source": [
    "# Error Handling and Debugging\n",
    "\n",
    "> **Learn how to handle errors gracefully and debug your Python code like a pro.**\n",
    "\n",
    "---\n",
    "\n",
    "Welcome to our interactive notebook for the lesson on **Error Handling and Debugging**. Before we get started, remember that this notebook is not automatically saved to your local device. If you are using Google Colab, please save a copy to your Google Drive to ensure your work is saved.\n",
    "\n",
    "In this lesson, we're going to delve into handling errors in Python—what errors are, how to handle them, and how to debug issues in your code. We'll start with the basics and gradually move to more complex examples.\n",
    "\n",
    "Let's embark on this journey to make your Python code robust and error-proof!"
   ]
  },
  {
   "cell_type": "markdown",
   "metadata": {},
   "source": [
    "## Challenge 1: Handling FileNotFoundError\n",
    "\n",
    "Let’s begin by attempting to open a file that does not exist and handling the error that arises gracefully.\n",
    "\n",
    "Below is the code to open a file. Your task is to add a try-except block to handle a `FileNotFoundError`.\n",
    "\n",
    "```python\n",
    "# TODO: Use a try-except block to handle the FileNotFoundError\n",
    "file_name = 'non_existent_file.txt'\n",
    "open(file_name)\n",
    "```\n",
    "Make sure to print a user-friendly message if the file cannot be found."
   ]
  },
  {
   "cell_type": "code",
   "execution_count": null,
   "metadata": {},
   "outputs": [],
   "source": [
    "# TODO: Add your code solution here"
   ]
  },
  {
   "cell_type": "markdown",
   "metadata": {},
   "source": [
    "## Challenge 2: Handling Division Errors\n",
    "\n",
    "In Python, dividing by zero is not permitted and will result in a `ZeroDivisionError`. Let’s handle this error by catching it when an attempt to divide by zero occurs.\n",
    "\n",
    "```python\n",
    "# TODO: Write a function that takes two numbers and divides the first number by the second number.\n",
    "# Use a try-except block to handle a ZeroDivisionError by printing a friendly message.\n",
    "```\n",
    "Complete the function below:"
   ]
  },
  {
   "cell_type": "code",
   "execution_count": null,
   "metadata": {},
   "outputs": [],
   "source": [
    "# TODO: Add your code solution here"
   ]
  },
  {
   "cell_type": "markdown",
   "metadata": {},
   "source": [
    "## Challenge 3: Catching and Logging Errors\n",
    "\n",
    "Sometimes, it's useful not only to catch an error but also to log its message for debugging purposes. Let’s practice this by catching a `TypeError` and logging its message.\n",
    "\n",
    "```python\n",
    "# TODO: Use a try-except block to catch a TypeError.\n",
    "# Assign the error to a variable 'e' and print the message contained in 'e'.\n",
    "```\n",
    "Try to concatenate a string and an integer inside the try block to raise a TypeError."
   ]
  },
  {
   "cell_type": "code",
   "execution_count": null,
   "metadata": {},
   "outputs": [],
   "source": [
    "# TODO: Add your code solution here"
   ]
  },
  {
   "cell_type": "markdown",
   "metadata": {},
   "source": [
    "## Challenge 4: Using Exception to Catch All Errors\n",
    "\n",
    "Catching `Exception` allows you to handle any kind of error that may occur. This can be very useful but should be used judiciously. In this challenge, you are to catch all exceptions and print a generic message.\n",
    "\n",
    "```python\n",
    "# TODO: Write a try-except block that catches any error.\n",
    "# Inside the except block, print 'An error occurred!'\n",
    "```\n",
    "Cause an error of your choosing inside the try block."
   ]
  },
  {
   "cell_type": "code",
   "execution_count": null,
   "metadata": {},
   "outputs": [],
   "source": [
    "# TODO: Add your code solution here"
   ]
  },
  {
   "cell_type": "markdown",
   "metadata": {},
   "source": [
    "## Challenge 5: Raising Custom Errors\n",
    "\n",
    "For this challenge, create a function that checks the age of a user from an input and raises a `ValueError` if the age is negative. Use a try-except block to catch the error and print a friendly message.\n",
    "\n",
    "```python\n",
    "# TODO: Define a function 'check_age' that takes an age as input.\n",
    "# If the age is negative, raise a ValueError with the message 'Age cannot be negative.'\n",
    "# Use a try-except block to catch the ValueError and print a friendly message.\n",
    "```\n",
    "Test your function with both valid and invalid inputs."
   ]
  },
  {
   "cell_type": "code",
   "execution_count": null,
   "metadata": {},
   "outputs": [],
   "source": [
    "# TODO: Add your code solution here"
   ]
  },
  {
   "cell_type": "markdown",
   "metadata": {},
   "source": [
    "## In Conclusion\n",
    "\n",
    "Congratulations on completing the challenges! Error handling and debugging are key skills in any programmer's toolkit. By learning to handle errors gracefully and debugging efficiently, you're on your way to writing more robust and reliable Python code.\n",
    "\n",
    "Remember, the goal is not just to catch errors, but to understand why they occur and how to prevent them in the future. Keep practicing these concepts, and you'll find your debugging skills improving over time.\n",
    "\n",
    "---\n",
    "\n",
    "To have your work reviewed, please download this notebook as a file and email it as an attachment to [o.j.uwaifo@gmail.com](mailto:o.j.uwaifo@gmail.com)."
   ]
  },
  {
   "cell_type": "markdown",
   "metadata": {},
   "source": [
    "End of notebook."
   ]
  }
 ],
 "metadata": {
  "kernelspec": {
   "display_name": "Python 3",
   "language": "python",
   "name": "python3"
  },
  "language_info": {
   "codemirror_mode": {
    "name": "ipython",
    "version": 3
   },
   "file_extension": ".py",
   "mimetype": "text/x-python",
   "name": "python",
   "nbconvert_exporter": "python",
   "pygments_lexer": "ipython3",
   "version": "3.8.5"
  }
 },
 "nbformat": 4,
 "nbformat_minor": 2
}