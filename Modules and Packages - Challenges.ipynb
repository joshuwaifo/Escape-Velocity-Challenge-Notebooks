{
 "cells": [
  {
   "cell_type": "markdown",
   "metadata": {},
   "source": [
    "# Modules and Packages\n",
    "> Explore how to use modules and packages to leverage external code in your projects.\n",
    "\n",
    "**Note:** This notebook is designed to be run in an interactive environment such as Jupyter or Google Colab. Remember, in Google Colab, you can save a copy of this notebook to your Google Drive for personal use and to ensure your work is not lost."
   ]
  },
  {
   "cell_type": "markdown",
   "metadata": {},
   "source": [
    "## Introduction\n",
    "In this challenge notebook, you'll have an opportunity to practice what you've learned in our lesson on Modules and Packages. From importing built-in modules to installing and utilizing third-party packages, these exercises are designed to help reinforce your understanding and skills. Get ready to dive in, write some code, and make your programming life easier and more efficient!"
   ]
  },
  {
   "cell_type": "markdown",
   "metadata": {},
   "source": [
    "### Challenge 1: Using Built-in Modules\n",
    "#### Challenge 1.1: Import the `os` Module\n",
    "- Import the `os` module and use it to get the current working directory.\n",
    "\n",
    "#### Challenge 1.2: Calculate Square Root using `math`\n",
    "- Import the `math` module and use it to calculate the square root of 16."
   ]
  },
  {
   "cell_type": "code",
   "execution_count": null,
   "metadata": {},
   "outputs": [],
   "source": [
    "# TODO: Challenge 1.1 - Import the `os` module and get the current working directory\n",
    "\n",
    "\n",
    "# TODO: Challenge 1.2 - Import `math` and calculate the square root of 16\n"
   ]
  },
  {
   "cell_type": "markdown",
   "metadata": {},
   "source": [
    "### Challenge 2: Importing Specific Attributes and Aliasing Modules\n",
    "#### Challenge 2.1: Import Only the `sqrt` Function\n",
    "- Directly import the `sqrt` function from the `math` module and use it to calculate the square root of 25.\n",
    "\n",
    "#### Challenge 2.2: Alias the `math` Module as `m`\n",
    "- Import the `math` module as `m` and use it to calculate the factorial of 5."
   ]
  },
  {
   "cell_type": "code",
   "execution_count": null,
   "metadata": {},
   "outputs": [],
   "source": [
    "# TODO: Challenge 2.1 - Import only the `sqrt` function and calculate the square root of 25\n",
    "\n",
    "\n",
    "# TODO: Challenge 2.2 - Alias `math` as `m` and calculate the factorial of 5\n"
   ]
  },
  {
   "cell_type": "markdown",
   "metadata": {},
   "source": [
    "### Challenge 3: Using Third-party Modules\n",
    "#### Challenge 3.1: Install and Use the `requests` Package\n",
    "- Use `pip` to install the `requests` package.\n",
    "- Import the `requests` package and use it to make a GET request to `https://api.github.com` and print the status code of the response."
   ]
  },
  {
   "cell_type": "code",
   "execution_count": null,
   "metadata": {},
   "outputs": [],
   "source": [
    "# TODO: Challenge 3.1 - Install `requests` and make a GET request to `https://api.github.com`\n"
   ]
  },
  {
   "cell_type": "markdown",
   "metadata": {},
   "source": [
    "## Conclusion\n",
    "Congratulations on reaching the end of the challenges notebook! You've practiced importing built-in modules, utilizing specific functions from modules, aliasing, installing, and working with third-party packages. These are significant stepping stones in your journey as a Python programmer.\n",
    "\n",
    "Your next steps should involve experimenting with different modules and packages that interest you. Dive deeper into their documentation and explore the vast possibilities they offer. It's an excellent way to learn and expand your programming toolkit.\n",
    "\n",
    "### Submit Your Work\n",
    "Once you're done with the exercises, download this notebook as a `.ipynb` file and email it to your instructor for review.\n",
    "- Download: Go to `File` > `Download` > `Download .ipynb`\n",
    "- Email it as an attachment to: [o.j.uwaifo@gmail.com](mailto:o.j.uwaifo@gmail.com)\n",
    "\n",
    "Keep exploring and happy coding!"
   ]
  },
  {
   "cell_type": "markdown",
   "metadata": {},
   "source": [
    "---"
   ]
  }
 ],
 "metadata": {
  "kernelspec": {
   "display_name": "Python 3",
   "language": "python",
   "name": "python3"
  },
  "language_info": {
   "codemirror_mode": {
    "name": "ipython",
    "version": 3
   },
   "file_extension": ".py",
   "mimetype": "text/x-python",
   "name": "python",
   "nbconvert_exporter": "python",
   "pygments_lexer": "ipython3",
   "version": "3.8.5"
  }
 },
 "nbformat": 4,
 "nbformat_minor": 2
}