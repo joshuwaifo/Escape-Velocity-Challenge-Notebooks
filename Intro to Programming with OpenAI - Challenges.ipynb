{
 "cells": [
  {
   "cell_type": "markdown",
   "metadata": {},
   "source": [
    "# Intro to Programming with OpenAI\n",
    "\n",
    "**Lesson Tagline**: Start your journey by learning how to authenticate using an API key and run your first OpenAI example.\n",
    "\n",
    "Welcome to the interactive Jupyter notebook for your lesson on *Intro to Programming with OpenAI*. Before we jump into the practical aspects, please note that if you're using Google Colab, remember to save a copy of this notebook to your Google Drive to ensure your work isn't lost.\n",
    "\n",
    "In this lesson, we will explore how to authenticate using an API key and run your first OpenAI example. Let's get started!"
   ]
  },
  {
   "cell_type": "markdown",
   "metadata": {},
   "source": [
    "## Challenge 1: Account Creation and API Key Generation\n",
    "\n",
    "1. If you haven't already, create an OpenAI account and set up a payment method.\n",
    "2. Find and note down your API key from the OpenAI management console.\n",
    "\n",
    "**Note**: Remember, keep your API key confidential to protect your resources.\n",
    "\n",
    "### Task\n",
    "- Visit [OpenAI Console](https://platform.openai.com/api-keys) to create an account or find your API key.\n",
    "- **# TODO**: Write code to set up your environment variable for `OPENAI_API_KEY` (use Google Colab secrets if applicable).\n",
    "\n",
    "```python\n",
    "# TODO: Add code here to initialize your OPENAI_API_KEY environment variable\n",
    "```"
   ]
  },
  {
   "cell_type": "code",
   "execution_count": null,
   "metadata": {},
   "outputs": [],
   "source": [
    "# Example placeholder code\n",
    "# This is how you might set an environment variable in code, but remember to use secure practices like using secrets!\n",
    "import os\n",
    "os.environ['OPENAI_API_KEY'] = 'your_api_key_here'"
   ]
  },
  {
   "cell_type": "markdown",
   "metadata": {},
   "source": [
    "## Challenge 2: Your First OpenAI API Call\n",
    "\n",
    "Now that you have your API key set up, let's make our first API call.\n",
    "\n",
    "We will write a simple script to call the OpenAI API using the key and generate a chat completion.\n",
    "\n",
    "### Task\n",
    "- **# TODO**: Write a script that initializes the OpenAI client using your API key.\n",
    "- **# TODO**: Create a basic chat completion script.\n",
    "\n",
    "```python\n",
    "# TODO: Add code here to initialize OpenAI client and create a chat completion\n",
    "```"
   ]
  },
  {
   "cell_type": "code",
   "execution_count": null,
   "metadata": {},
   "outputs": [],
   "source": [
    "# Example placeholder code for initializing the OpenAI client\n",
    "import openai\n",
    "\n",
    "# Ensure your OPENAI_API_KEY is set up as an environment variable or use the openai library's method to set the API key\n",
    "openai.api_key = os.getenv('OPENAI_API_KEY')\n",
    "\n",
    "response = openai.Completion.create(\n",
    "  engine='text-davinci-003',\n",
    "  prompt='Hello, world! This is my first API call. What can you tell me about yourself?',\n",
    "  max_tokens=50\n",
    ")\n",
    "\n",
    "print(response.choices[0].text.strip())"
   ]
  },
  {
   "cell_type": "markdown",
   "metadata": {},
   "source": [
    "Great! By completing the above code, you've made your first call to the OpenAI API and started interacting with some of the most advanced AI models available today."
   ]
  },
  {
   "cell_type": "markdown",
   "metadata": {},
   "source": [
    "## Wrap Up and Next Steps\n",
    "\n",
    "Fantastic job reaching this point! Today, you've learned how to authenticate using an API key and run your first OpenAI example. These are foundational steps in programmatically accessing AI technologies.\n",
    "\n",
    "Remember, today's lesson is just the beginning. We'll dive deeper into more complex uses of the OpenAI API, including chat completions, text generation, and more in upcoming lessons. Stay curious and happy coding!\n"
   ]
  }
 ],
 "metadata": {
  "kernelspec": {
   "name": "python3",
   "display_name": "Python 3"
  },
  "language_info": {
   "name": "python",
   "version": "3.8.5",
   "mimetype": "text/x-python",
   "codemirror_mode": {
    "name": "ipython",
    "version": 3
   },
   "pygments_lexer": "ipython3",
   "nbconvert_exporter": "python",
   "file_extension": ".py"
  }
 },
 "nbformat": 4,
 "nbformat_minor": 4
}
