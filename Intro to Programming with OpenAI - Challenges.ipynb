{
  "cells": [
    {
      "cell_type": "markdown",
      "metadata": {},
      "source": [
        "# Intro to Programming with OpenAI\n",
        "\n",
        "## Start your journey by learning how to authenticate using an API key and run your first OpenAI example.\n",
        "\n",
        "Welcome to today's lesson on Introduction to Programming with OpenAI, targeting starting your journey by learning how to authenticate using an API key and run your first OpenAI example. This lesson will serve as a foundational stone for your programming endeavors, especially in the exciting field of artificial intelligence (AI).\n",
        "\n",
        "**Remember:** This notebook is not automatically saved! If you're using Google Colab, ensure you save a copy to your Google Drive to keep your progress."
      ]
    },
    {
      "cell_type": "markdown",
      "metadata": {},
      "source": [
        "### Challenge 1: Understanding the Basics\n",
        "\n",
        "Before we dive into OpenAI and its wonders, let's ensure we understand the basics of programming and why it's essential.\n",
        "\n",
        "- **Task 1.a:** Briefly describe what programming is and its importance in today's world. *(Write your answer in a text cell below)*\n",
        "- **Task 1.b:** Research and list down at least two areas where AI technologies are currently applied. *(Write your answer in a text cell below)*"
      ]
    },
    {
      "cell_type": "markdown",
      "metadata": {},
      "source": [
        "### Challenge 2: Registering for OpenAI and Generating an API Key\n",
        "\n",
        "To interact with OpenAI APIs, an API key is necessary. This key will authenticate your requests.\n",
        "\n",
        "- **Task 2:** Follow the instructions provided on the [OpenAI API documentation](https://openai.com/api/) to sign up for an account and generate an API key. *Note: Do not share your API key publicly.*\n",
        "\n",
        "**# TODO:** *Instructions for generating an API key are to be followed by the student outside of this notebook.*"
      ]
    },
    {
      "cell_type": "code",
      "execution_count": null,
      "metadata": {},
      "outputs": [],
      "source": [
        "# TODO: Store your API key in a variable named 'api_key'\n",
        "api_key = 'YOUR_API_KEY_HERE'"
      ]
    },
    {
      "cell_type": "markdown",
      "metadata": {},
      "source": [
        "### Challenge 3: Setting Up Your Environment\n",
        "\n",
        "Now, let's get our environment ready to make requests to the OpenAI API.\n",
        "\n",
        "- **Task 3.a:** Install the OpenAI package. *Use the code cell below to install the package using pip.*\n",
        "- **Task 3.b:** Import the necessary library for working with OpenAI. *(Hint: `import openai`)*"
      ]
    },
    {
      "cell_type": "code",
      "execution_count": null,
      "metadata": {},
      "outputs": [],
      "source": [
        "# TODO: Install the OpenAI package\n",
        "!pip install openai"
      ]
    },
    {
      "cell_type": "code",
      "execution_count": null,
      "metadata": {},
      "outputs": [],
      "source": [
        "# TODO: Import the OpenAI library\n",
        "import openai"
      ]
    },
    {
      "cell_type": "markdown",
      "metadata": {},
      "source": [
        "### Challenge 4: Your First OpenAI Request\n",
        "\n",
        "Let's put our setup to the test by running a simple example.\n",
        "\n",
        "- **Task 4:** Using the OpenAI API, Create a text generation request. Use any prompt you like and display the generated text.\n",
        "\n",
        "**Hint:** You'll need to set up your `api_key` and use the `openai.Completion.create()` function with your chosen prompt."
      ]
    },
    {
      "cell_type": "code",
      "execution_count": null,
      "metadata": {},
      "outputs": [],
      "source": [
        "# TODO: Use the OpenAI API to generate text from a prompt\n",
        "openai.api_key = api_key\n",
        "\n",
        "# Set up the prompt\n",
        "prompt = 'The future of AI in education is'\n",
        "\n",
        "# Generate text using OpenAI's API\n",
        "response = openai.Completion.create(\n",
        "  engine=\"text-davinci-003\",\n",
        "  prompt=prompt,\n",
        "  max_tokens=50\n",
        ")\n",
        "\n",
        "# Print the generated text\n",
        "print(response.choices[0].text.strip())"
      ]
    },
    {
      "cell_type": "markdown",
      "metadata": {},
      "source": [
        "### Challenge 5: Reflect on Your Learning\n",
        "\n",
        "Reflect on what you've learned and how you can apply it.\n",
        "\n",
        "- **Task 5:** Share your thoughts on how you can apply the knowledge from this lesson to a project or an idea you have. *(Write your answer in a text cell below)*"
      ]
    },
    {
      "cell_type": "markdown",
      "metadata": {},
      "source": [
        "### Submission Instructions\n",
        "\n",
        "Congratulations on completing the notebook! To submit your work, please follow these steps:\n",
        "\n",
        "1. Download this notebook as a `.ipynb` file by navigating to `File > Download > Download .ipynb`.\n",
        "2. Attach the downloaded file to an email and send it to the instructor at: o.j.uwaifo@gmail.com"
      ]
    }
  ],
  "metadata": {
    "kernelspec": {
      "display_name": "Python 3",
      "language": "python",
      "name": "python3"
    },
    "language_info": {
      "codemirror_mode": {
        "name": "ipython",
        "version": 3
      },
      "file_extension": ".py",
      "mimetype": "text/x-python",
      "name": "python",
      "nbconvert_exporter": "python",
      "pygments_lexer": "ipython3",
      "version": "3.8.5"
    }
  },
  "nbformat": 4,
  "nbformat_minor": 2
}