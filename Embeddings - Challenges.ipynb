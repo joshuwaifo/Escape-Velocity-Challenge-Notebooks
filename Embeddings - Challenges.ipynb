{
  "cells": [
    {
      "cell_type": "markdown",
      "metadata": {},
      "source": [
        "# Embeddings\n",
        "## Understand embeddings and how they can be used to perform a variety of tasks, including semantic search.\n",
        "\n",
        "Welcome to the interactive notebook designed to help you practice and grasp the concepts presented in our lesson on *Embeddings*. Before we dive into practical tasks, please remember that this notebook is not automatically saved. To keep your work, make sure to use **Google Colab** and save a copy to your Google Drive."
      ]
    },
    {
      "cell_type": "markdown",
      "metadata": {},
      "source": [
        "## Introduction to Challenges\n",
        "\n",
        "Throughout this notebook, you will find a series of challenges that will reinforce your understanding of embeddings, how they're created, manipulated, and applied in various machine learning contexts. You're encouraged to experiment, explore varied parameters, and observe the outcomes of your manipulations."
      ]
    },
    {
      "cell_type": "code",
      "execution_count": null,
      "metadata": {},
      "outputs": [],
      "source": [
        "!pip install openai"
      ]
    },
    {
      "cell_type": "markdown",
      "metadata": {},
      "source": [
        "### **Challenge 1: Setting up and authenticating**\n",
        "\n",
        "- Use the cell below to import the OpenAI library.\n",
        "- Authenticate using your API key. Remember, handle your API key securely."
      ]
    },
    {
      "cell_type": "code",
      "execution_count": null,
      "metadata": {},
      "outputs": [],
      "source": [
        "# TODO: Import OpenAI library\n",
        "\n",
        "# TODO: Authenticate with your OpenAI API key\n"
      ]
    },
    {
      "cell_type": "markdown",
      "metadata": {},
      "source": [
        "### **Challenge 2: Create Your First Embedding**\n",
        "\n",
        "- Use the openai API to create an embedding of the following text: 'Machine learning is fascinating.'\n",
        "- Print out the resulting embedding vector."
      ]
    },
    {
      "cell_type": "code",
      "execution_count": null,
      "metadata": {},
      "outputs": [],
      "source": [
        "# TODO: Create an embedding for the specified text\n",
        "# TODO: Print the embedding vector\n"
      ]
    },
    {
      "cell_type": "markdown",
      "metadata": {},
      "source": [
        "### **Challenge 3: Exploring Different Models**\n",
        "\n",
        "- Experiment with at least two different models available for embeddings.\n",
        "- Compare the embedding vectors for the same input text to see how they differ."
      ]
    },
    {
      "cell_type": "code",
      "execution_count": null,
      "metadata": {},
      "outputs": [],
      "source": [
        "# TODO: Use a different model to create an embedding\n",
        "# TODO: Compare the embedding vectors\n"
      ]
    },
    {
      "cell_type": "markdown",
      "metadata": {},
      "source": [
        "### **Challenge 4: Semantic Similarity**\n",
        "\n",
        "- Create embeddings for two different pieces of text.\n",
        "- Compute and print the cosine similarity between the two embedding vectors."
      ]
    },
    {
      "cell_type": "code",
      "execution_count": null,
      "metadata": {},
      "outputs": [],
      "source": [
        "from scipy.spatial.distance import cosine\n",
        "\n",
        "# TODO: Create embeddings for two pieces of text\n",
        "\n",
        "# TODO: Compute the cosine similarity between the embeddings\n",
        "# Hint: 1 - cosine(embedding1, embedding2)\n"
      ]
    },
    {
      "cell_type": "markdown",
      "metadata": {},
      "source": [
        "### **Great job so far**\n"
      ]
    }
  ],
  "metadata": {
    "kernelspec": {
      "display_name": "Python 3",
      "language": "python",
      "name": "python3"
    },
    "language_info": {
      "codemirror_mode": {
        "name": "ipython",
        "version": 3
      },
      "file_extension": ".py",
      "mimetype": "text/x-python",
      "name": "python",
      "nbconvert_exporter": "python",
      "pygments_lexer": "ipython3",
      "version": "3.8.5"
    }
  },
  "nbformat": 4,
  "nbformat_minor": 4
}
