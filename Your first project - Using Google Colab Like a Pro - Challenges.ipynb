{
  "cells": [
    {
      "cell_type": "markdown",
      "metadata": {},
      "source": [
        "# Your first project - Using Google Colab Like a Pro\n",
        "\n",
        "> Get hands on practice by building something very simple in Google Colab\n",
        "\n",
        "Hello, and welcome to 'Your first project - Using Google Colab Like a Pro'. Before we dive in, remember, if you have any questions throughout this project, you can **hit the question button on this page** to get in touch with me. Let's get started!\n",
        "\n",
        "**Note:** This notebook will not be saved unless you use Google Colab to save a copy to your **Google Drive**."
      ]
    },
    {
      "cell_type": "markdown",
      "metadata": {},
      "source": [
        "## Introduction\n",
        "\n",
        "In this practice notebook, you'll get a hands-on introduction to using Google Colab effectively for a simple project. We'll learn the basics of Google Colab and create a small Python program to filter even numbers from a list.\n",
        "\n",
        "Let's begin our journey into the world of coding and Google Colab!"
      ]
    },
    {
      "cell_type": "markdown",
      "metadata": {},
      "source": [
        "### Challenge 1: Setting Up Your Notebook\n",
        "\n",
        "1. Go to Google Colab and click on 'New Notebook' to create a new notebook.\n",
        "2. Rename the notebook to something meaningful, like `FirstColabProject`."
      ]
    },
    {
      "cell_type": "markdown",
      "metadata": {},
      "source": [
        "### Challenge 2: Writing Your First Code\n",
        "\n",
        "**Task:** Write a Python list comprehension to create a list of numbers from 1 to 10.\n",
        "\n",
        "```python\n",
        "# TODO: Create a list of numbers from 1 to 10\n",
        "numbers = # Your code here\n",
        "print(numbers)\n",
        "```\n",
        "\n",
        "After writing your code, run the cell to make sure it prints the list correctly."
      ]
    },
    {
      "cell_type": "code",
      "execution_count": null,
      "metadata": {},
      "outputs": [],
      "source": [
        "# Example solution for Challenge 2\n",
        "# numbers = [i for i in range(1, 11)]\n",
        "# print(numbers)"
      ]
    },
    {
      "cell_type": "markdown",
      "metadata": {},
      "source": [
        "### Challenge 3: Filtering Even Numbers\n",
        "\n",
        "**Task:** Write a function that takes a list of numbers and returns only the even ones.\n",
        "\n",
        "```python\n",
        "# TODO: Define a function to filter even numbers from a list\n",
        "def filter_even_numbers(lst):\n",
        "    # Your code here\n",
        "    return []\n",
        "\n",
        "# TODO: Call the function and pass the list of numbers from Challenge 2\n",
        "even_numbers = filter_even_numbers(numbers)\n",
        "print(even_numbers)\n",
        "```\n",
        "\n",
        "Define the function, call it with the list you created, and print the result."
      ]
    },
    {
      "cell_type": "code",
      "execution_count": null,
      "metadata": {},
      "outputs": [],
      "source": [
        "# Example solution for Challenge 3\n",
        "# def filter_even_numbers(lst):\n",
        "#     return [num for num in lst if num % 2 == 0]\n",
        "# even_numbers = filter_even_numbers(numbers)\n",
        "# print(even_numbers)"
      ]
    },
    {
      "cell_type": "markdown",
      "metadata": {},
      "source": [
        "### Explore Further\n",
        "\n",
        "- Experiment with connecting to Google Drive\n",
        "- Try installing a package using `!pip install`\n",
        "- Explore using libraries like pandas or numpy"
      ]
    },
    {
      "cell_type": "markdown",
      "metadata": {},
      "source": [
        "## Conclusion and Submission\n",
        "\n",
        "Congratulations on completing your first project in Google Colab! You've taken your first steps into coding and saw how Google Colab can be a powerful tool in your developer toolkit.\n",
        "\n",
        "To submit your work, **download this notebook** as a file by going to `File > Download > Download .ipynb`. Then, **send it as an attachment** to o.j.uwaifo@gmail.com.\n",
        "\n",
        "I'm excited to see what you've accomplished! If you have any questions or suggestions on what you'd like to learn next, please don't hesitate to reach out.\n",
        "\n",
        "Happy coding, and I look forward to seeing you in the next lesson!"
      ]
    }
  ],
  "metadata": {
    "kernelspec": {
      "display_name": "Python 3",
      "language": "python",
      "name": "python3"
    },
    "language_info": {
      "codemirror_mode": {
        "name": "ipython",
        "version": 3
      },
      "file_extension": ".py",
      "mimetype": "text/x-python",
      "name": "python",
      "nbconvert_exporter": "python",
      "pygments_lexer": "ipython3",
      "version": "3.x"
    }
  },
  "nbformat": 4,
  "nbformat_minor": 2
}