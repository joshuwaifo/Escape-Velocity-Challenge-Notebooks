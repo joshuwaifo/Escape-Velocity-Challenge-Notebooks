{
  "cells": [
    {
      "cell_type": "markdown",
      "metadata": {},
      "source": [
        "# Functions in Python\n",
        "\n",
        "## Unlock the power of functions to write reusable and organized code.\n",
        "\n",
        "**Note**: This notebook is interactive and can be modified. However, changes are not saved automatically. If you're using Google Colab, remember to save a copy to your Google Drive to keep your adjustments."
      ]
    },
    {
      "cell_type": "markdown",
      "metadata": {},
      "source": [
        "### Introduction\n",
        "\n",
        "Welcome to this interactive Jupyter notebook designed to help you practice and deepen your understanding of Python functions. Functions are fundamental to achieving reusable, organized, and efficient code. As you progress through this notebook, you will encounter a series of challenges that will allow you to apply what you've learned about Python functions, from basic syntax to more advanced concepts like default and keyword arguments. Let's get started!"
      ]
    },
    {
      "cell_type": "markdown",
      "metadata": {},
      "source": [
        "#### Challenge 1: Using Built-in Functions\n",
        "\n",
        "Python provides several built-in functions that are readily available for us to use. Let's start with two of the most commonly used ones: `print()` and `len()`.\n",
        "\n",
        "**Task**: Use the `print()` function to display the message \"Hello, World!\". Then, create a list named `fruits` with the values 'apple', 'banana', and 'cherry'. Use the `len()` function to print the number of items in the `fruits` list.\n",
        "\n",
        "```python\n",
        "# TODO: Display message \"Hello, World!\"\n",
        "\n",
        "# TODO: Create a list named fruits and print the number of items in the list\n",
        "```"
      ]
    },
    {
      "cell_type": "markdown",
      "metadata": {},
      "source": [
        "#### Challenge 2: Defining Your Own Function\n",
        "\n",
        "Now, let's move on to defining our own functions. This is a crucial skill for organizing code into reusable pieces.\n",
        "\n",
        "**Task**: Define a function named `greet()` that prints the message \"Hello, Python learner!\" when called.\n",
        "\n",
        "```python\n",
        "# TODO: Define greet function\n",
        "\n",
        "# TODO: Call the greet function\n",
        "```"
      ]
    },
    {
      "cell_type": "markdown",
      "metadata": {},
      "source": [
        "#### Challenge 3: Functions with Parameters\n",
        "\n",
        "Adding parameters to functions makes them more flexible and useful. Let's enhance our `greet` function.\n",
        "\n",
        "**Task**: Modify the `greet` function so it takes one parameter, `name`, and prints a personalized greeting message.\n",
        "\n",
        "```python\n",
        "# TODO: Modify the greet function to take a parameter and print personalized greeting\n",
        "\n",
        "# TODO: Call the modified greet function with your name as an argument\n",
        "```"
      ]
    },
    {
      "cell_type": "markdown",
      "metadata": {},
      "source": [
        "#### Challenge 4: Using Default Arguments\n",
        "\n",
        "Default arguments in functions can help make our functions more adaptable.\n",
        "\n",
        "**Task**: Modify the `greet` function to include a default argument so that if no name is provided, it greets \"World\" by default.\n",
        "\n",
        "```python\n",
        "# TODO: Modify the greet function to have a default argument\n",
        "\n",
        "# TODO: Call the greet function without providing a name\n",
        "```"
      ]
    },
    {
      "cell_type": "markdown",
      "metadata": {},
      "source": [
        "#### Challenge 5: Positional and Keyword Arguments\n",
        "\n",
        "Understanding the difference between positional and keyword arguments is important for creating flexible functions.\n",
        "\n",
        "**Task**: Define a function `introduce` that takes two parameters, `first_name` and `last_name`, and prints a message introducing the person. First, call it using positional arguments, then call it again using keyword arguments.\n",
        "\n",
        "```python\n",
        "# TODO: Define introduce function\n",
        "\n",
        "# TODO: Call the introduce function using positional arguments\n",
        "\n",
        "# TODO: Call the introduce function using keyword arguments\n",
        "```"
      ]
    },
    {
      "cell_type": "markdown",
      "metadata": {},
      "source": [
        "### Conclusion and Next Steps\n",
        "\n",
        "Congratulations on completing these challenges! You've practiced using built-in functions, defining your own functions, using parameters, and the distinction between positional and keyword arguments. These skills are crucial for writing clean, readable, and efficient Python code.\n",
        "\n",
        "As you continue to learn and grow as a Python programmer, experimenting with functions will allow you to see new possibilities and ways to solve problems effectively. Remember, practice is key to becoming proficient.\n",
        "\n",
        "Please download this notebook and email it as an attachment to the instructor for review at [o.j.uwaifo@gmail.com](mailto:o.j.uwaifo@gmail.com). Good luck, and happy coding!"
      ]
    }
  ],
  "metadata": {
    "kernelspec": {
      "display_name": "Python 3",
      "language": "python",
      "name": "python3"
    },
    "language_info": {
      "codemirror_mode": {
        "name": "ipython",
        "version": 3
      },
      "file_extension": ".py",
      "mimetype": "text/x-python",
      "name": "python",
      "nbconvert_exporter": "python",
      "pygments_lexer": "ipython3",
      "version": "3.x"
    }
  },
  "nbformat": 4,
  "nbformat_minor": 4
}