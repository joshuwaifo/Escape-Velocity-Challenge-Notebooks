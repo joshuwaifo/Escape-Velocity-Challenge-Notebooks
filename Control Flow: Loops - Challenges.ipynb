{
 "cells": [
  {
   "cell_type": "markdown",
   "metadata": {},
   "source": [
    "# Control Flow: Loops\n",
    "\n",
    "## Master the art of looping in Python to repeat tasks efficiently.\n",
    "\n",
    "**Note**: Remember, to save your progress in this notebook, use Google Colab to save a copy to your Google Drive."
   ]
  },
  {
   "cell_type": "markdown",
   "metadata": {},
   "source": [
    "Welcome to our lesson on **Control Flow: Loops**! Today, we're going to explore how to use loops in Python to automate and repeat tasks efficiently. Whether you're counting numbers, iterating through lists, or processing user input, loops are an indispensable part of programming in Python that can make your code more efficient and compact.\n",
    "\n",
    "Before we dive into coding, let's go over some of the concepts we'll be covering today:\n",
    "\n",
    "- **While** loops\n",
    "- **For** loops\n",
    "- **Break** and **continue** statements\n",
    "\n",
    "Get ready to loop your way through this lesson with practical examples and challenges!"
   ]
  },
  {
   "cell_type": "markdown",
   "metadata": {},
   "source": [
    "### Challenge 1: Using a `while` loop to count\n",
    "\n",
    "Let's start simple with a `while` loop that counts from 1 to 5. In the code cell below, write a `while` loop that initializes a counter at 1, and then increments it until it reaches 5. Print the value of the counter at each step."
   ]
  },
  {
   "cell_type": "code",
   "execution_count": null,
   "metadata": {},
   "outputs": [],
   "source": [
    "# TODO: Write a while loop that counts from 1 to 5and prints the counter value"
   ]
  },
  {
   "cell_type": "markdown",
   "metadata": {},
   "source": [
    "### Challenge 2: Exiting a loop with `break`\n",
    "\n",
    "Now let's incorporate the `break` statement. Modify the previous `while` loop so that it exits when the counter reaches 3, using a `break` statement."
   ]
  },
  {
   "cell_type": "code",
   "execution_count": null,
   "metadata": {},
   "outputs": [],
   "source": [
    "# TODO: Write a while loop with a break statement to stop when the counter reaches 3"
   ]
  },
  {
   "cell_type": "markdown",
   "metadata": {},
   "source": [
    "### Challenge 3: Skipping iterations with `continue`\n",
    "\n",
    "Let's practice using `continue` within a loop. Write a `while` loop that counts from 1 to 5, but uses `continue` to skip printing the value 3."
   ]
  },
  {
   "cell_type": "code",
   "execution_count": null,
   "metadata": {},
   "outputs": [],
   "source": [
    "# TODO: Write a while loop that counts from 1 to 5, but skips printing the number 3"
   ]
  },
  {
   "cell_type": "markdown",
   "metadata": {},
   "source": [
    "### Challenge 4: Iterating with `for` loops\n",
    "\n",
    "`For` loops in Python are especially useful for iterating over sequences like lists or strings. Write a `for` loop that iterates over a list of numbers from 1 to 5, printing each number squared."
   ]
  },
  {
   "cell_type": "code",
   "execution_count": null,
   "metadata": {},
   "outputs": [],
   "source": [
    "# TODO: Write a for loop that iterates over a list of numbers and prints each number squared"
   ]
  },
  {
   "cell_type": "markdown",
   "metadata": {},
   "source": [
    "### Challenge 5: `while` loop for user input\n",
    "\n",
    "Write a `while` loop that continuously prompts the user to enter a word until they type 'quit'. Print each word entered. Use `break` to exit the loop if the user types 'quit'."
   ]
  },
  {
   "cell_type": "code",
   "execution_count": null,
   "metadata": {},
   "outputs": [],
   "source": [
    "# TODO: Write a while loop that repeatedly prompts for input and breaks when 'quit' is entered"
   ]
  },
  {
   "cell_type": "markdown",
   "metadata": {},
   "source": [
    "### Congratulations!\n",
    "\n",
    "You've reached the end of this lesson on Control Flow: Loops. By now, you should have a good understanding of how to use `while` and `for` loops in Python, along with the `break` and `continue` statements to control the flow of your loops.\n",
    "\n",
    "Remember, the key to mastering loops (and programming in general) is practice. Don't hesitate to experiment with the examples and challenges provided in this notebook.\n",
    "\n",
    "When you're ready, please email this notebook to your instructor for review. **Download** it as a file and send it as an attachment to **o.j.uwaifo@gmail.com**.\n",
    "\n",
    "Happy coding!"
   ]
  },
  {
   "cell_type": "code",
   "execution_count": null,
   "metadata": {},
   "outputs": [],
   "source": [
    "# Feel free to use this cell for any additional experiments as needed."
   ]
  }
 ],
 "metadata": {
  "kernelspec": {
   "display_name": "Python 3",
   "language": "python",
   "name": "python3"
  },
  "language_info": {
   "codemirror_mode": {
    "name": "ipython",
    "version": 3
   },
   "file_extension": ".py",
   "mimetype": "text/x-python",
   "name": "python",
   "nbconvert_exporter": "python",
   "pygments_lexer": "ipython3",
   "version": "3.8.5"
  }
 },
 "nbformat": 4,
 "nbformat_minor": 2
}