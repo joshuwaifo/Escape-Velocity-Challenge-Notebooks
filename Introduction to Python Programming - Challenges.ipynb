
{
 "cells": [
  {
   "cell_type": "markdown",
   "metadata": {},
   "source": [
    "# Introduction to Python Programming\n",
    "## Dive into the world of Python and understand why it's a favorite among programmers.\n\n",
    "Welcome to our interactive Jupyter notebook designed to complement your learning from the 'Introduction to Python Programming' lesson. Before we dive into the challenges, please note that **this notebook is not automatically saved**. If you are using Google Colab, make sure to save a copy to your Google Drive to keep your work safe.\n\n",
    "In this notebook, you'll find a series of challenges that will help you practice the concepts discussed in the lesson. These challenges include a combination of code cells and text cells, allowing you to both write and reflect on your Python code."
   ]
  },
  {
   "cell_type": "markdown",
   "metadata": {},
   "source": [
    "### Challenge 1: Hello, Python!\n",
    "Let's start with something simple. In the code cell below, write a Python program that prints `Hello, Python!` to the screen.\n",
    "\n",
    "#### Task:\n",
    "- Use the `print()` function to display the message.\n",
    "\n",
    "# TODO: Your code below"
   ]
  },
  {
   "cell_type": "code",
   "execution_count": null,
   "metadata": {},
   "outputs": [],
   "source": [
    "# Write your code here\n",
    "print('Hello, Python!')"
   ]
  },
  {
   "cell_type": "markdown",
   "metadata": {},
   "source": [
    "### Challenge 2: Variables and Strings\n",
    "Variables are containers for storing data values. Python has no command for declaring a variable; you create a variable the moment you first assign a value to it.\n",
    "\n",
    "#### Task:\n",
    "- Create a variable named `greeting` and assign it the value `Hello, world!`.\n",
    "- Print the value of `greeting`.\n",
    "\n",
    "# TODO: Your code below"
   ]
  },
  {
   "cell_type": "code",
   "execution_count": null,
   "metadata": {},
   "outputs": [],
   "source": [
    "# Write your code here"
   ]
  },
  {
   "cell_type": "markdown",
   "metadata": {},
   "source": [
    "### Challenge 3: Data Types and Data Structures\n",
    "Understanding data types and structures is crucial for manipulating and storing data in Python.\n",
    "\n",
    "#### Task:\n",
    "- Create a list named `python_concepts` containing the following strings: `Variables`, `Loops`, `Conditionals`, and `Functions`.\n",
    "- Add `Lists` and `Dictionaries` to `python_concepts` using appropriate list methods.\n",
    "- Print the `python_concepts` list to see your changes.\n",
    "\n",
    "# TODO: Your code below"
   ]
  },
  {
   "cell_type": "code",
   "execution_count": null,
   "metadata": {},
   "outputs": [],
   "source": [
    "# Write your code here"
   ]
  },
  {
   "cell_type": "markdown",
   "metadata": {},
   "source": [
    "### Challenge 4: Loops\n",
    "Python has two primitive loop commands - `for` loops and `while` loops.\n",
    "\n",
    "#### Task:\n",
    "- Using a `for` loop, iterate over the `python_concepts` list and print each item.\n",
    "\n",
    "# TODO: Your code below"
   ]
  },
  {
   "cell_type": "code",
   "execution_count": null,
   "metadata": {},
   "outputs": [],
   "source": [
    "# Write your code here"
   ]
  },
  {
   "cell_type": "markdown",
   "metadata": {},
   "source": [
    "At this point, you have practiced some of the essential concepts of Python programming. Remember, programming is about solving problems and automating tasks, so try to think of simple tasks that you can automate or simplify using Python.\n\n",
    "Please continue exploring more complex topics and challenges. Python is vast and versatile, and there's always something new to learn."
   ]
  },
  {
   "cell_type": "markdown",
   "metadata": {},
   "source": [
    "### Submitting Your Work\n\n",
    "Congratulations on making it to the end of this notebook! To submit your work, follow these steps:\n",
    "1. Make sure you have run all the code cells, especially the ones containing your solutions to the challenges.\n",
    "2. Download this notebook to your computer by going to **File > Download .ipynb**.\n",
    "3. Attach the downloaded `.ipynb` file to an email and send it to `[o.j.uwaifo@gmail.com](mailto:o.j.uwaifo@gmail.com)` for review.\n\n",
    "Thank you for participating! Happy Coding!"
   ]
  },
  {
   "cell_type": "markdown",
   "metadata": {},
   "source": [
    "## Happy Coding!\n",
    "Thank you for joining today's lesson on Introduction to Python Programming. Keep practicing, exploring, and learning. Remember, the best way to learn programming is by writing a lot of code. Happy coding!"
   ]
  }
 ],
 "metadata": {
  "kernelspec": {
   "display_name": "Python 3",
   "language": "python",
   "name": "python3"
  },
  "language_info": {
   "codemirror_mode": {
     "name": "ipython",
     "version": 3
    },
   "file_extension": ".py",
   "mimetype": "text/x-python",
   "name": "python",
   "nbconvert_exporter": "python",
   "pygments_lexer": "ipython3",
   "version": "3.7.4"
  }
 },
 "nbformat": 4,
 "nbformat_minor": 2
}